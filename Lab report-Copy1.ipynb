{
 "cells": [
  {
   "cell_type": "markdown",
   "metadata": {},
   "source": [
    "## The Effects On the Speed of an Object Rotating Around a Single Point\n",
    "#### By Ben Svoboda  \n",
    "#### Partners: Vishal Kobla, Nicole Seman, Michelle Chen and Ethan Choi\n",
    "&nbsp;&nbsp;&nbsp;&nbsp;&nbsp;&nbsp; An object was observed attached to a string and revolving around a center point. The string ran from the object it was attached to (horizontally) into a tube where the string ran vertically downwards, and a bob was attached to it at the bottom. It was wondered what factors affect the speed of the object on the end of the string. The three questions that were asked were, “Does the mass of the object on the end of the string affect the speed of the object?”, “Does the bob’s force affect the speed of the object?”, and “Does the radius of the string affect the bob’s speed?”. The hypothesis to question 1 was, “If the object on the end of the string’s mass decreases, then its speed will increase.”  It was thought because a heavier mass on the string would cause it to fall faster and bring the object down, decreasing its speed. The hypothesis to question 2 was, “If the bob’s force increases, then the object’s speed will as well.” This was thought because the force of the bob would work towards keeping the object upward and making its speed higher. The hypothesis to question 3 was, “If the radius of the string decreases, then the object’s speed will increase.” This was thought because if the radius is smaller, the spinning center point will affect it more than if the radius was longer. The hypotheses are only true if all factors remain constant besides the independent variable. Some constants in this experiment were the washers used, the stoppers used, the string used, the person who started and stopped the stopwatch, and the person who held the string. The independent variable for experiment 1 was the mass of the object, it is the bob’s force for experiment 2, and the independent variable is the radius of the string for experiment 3. The dependent variable is the time it takes for three revolutions for all three experiments. There were no controls in this experiment. In this experiment, a center point attached to an object that was spun in circles. The time the object took to revolve three times was found (using a stopwatch) when the force of the bob, the object’s mass, and the radius of the string were changed. The speed of the object was found when the distance it travelled was divided by the time it took to go three rotations.\n",
    "![Ethan Choi](https://lh3.googleusercontent.com/-99gYG48J8Xk/WZnhTwYlxAI/AAAAAAAAAyE/ZbH7QrI5k8Yvk072cFbsoDhad-BrkgXjACL0BGAYYCw/h286/2017-08-20.jpg)\n",
    "&nbsp;&nbsp;&nbsp;&nbsp;&nbsp;&nbsp; The materials used in this experiment were a long piece of string, three stoppers to provide mass, 30 washers to provide force, a small tube that the string can fit through, and a stopwatch. To conduct the first experiment, the string was put through the tube vertically downward on one end but came out horizontally on the other (as shown in the drawing). The distance from the center point where the tube is to the object (the radius) was 30 cm (the extra string was hanging through and below the tube). 30 washers were added to the washer holder as well. The mass of the object on the end changed from one stopper, to two stoppers, and then to three stoppers. A team member applied a force and spun the string in a circle. When the string was first moved a stopwatch was started and was stopped after the object underwent three revolutions. When the string was first moved, the applied force was immediately stopped. Three trials were taken for each stopper and an average time was found for each stopper. With this time the average speed was found for each stopper. This was found by dividing the distance travelled by the time it took to travel that distance. The distance was found by multiplying the circumference of the circle (pi*2r) by three (There were three revolutions). For experiment 2, the bob’s force in washers started at 10 washers and was then raised to 15, then 20, then 25, and finally 30 washers. The radius of the string was 30 cm and the object had one stopper as the object on the end of the string. The same procedure was used to find the times and average speeds when the force of the bob varied. For the final experiment, the radius of the string moved from 20 to 25 to 30 to 35 to 40 cm. The force of the washers stayed at 30 and the object’s mass was constantly one stopper. The same procedure was used to find the times and average speeds as in the other experiments. For experiment 1, a 4x8 table was made. Three rows were for a different mass and the last one was for the titles. The eight columns were made for the mass (number of stoppers), radius length (cm),  the force (# of washers), the three time trials (s), the average time (s), and the average speed (cm/s). For experiment 2, a 6x8 table was made. Five rows were for a different force and the last one was for the titles. The eight columns were made for the mass (number of stoppers), radius length (cm), the force (# of washers), the three time trials (s), the average time (s), and the average speed (cm/s). For experiment 3, a 6x8 table was made. Five rows were for a different radius and the last one was for the titles. The eight columns were made for the mass (number of stoppers), radius length (cm), the force (# of washers), the three time trials (s), the average time (s), and the average speed (cm/s). A safety issue was that it was made sure that this experiment was not conducted around anyone but the person who applies the force because the object could hit someone’s head who isn’t expecting it. It was also made sure that the person who applied the force was cautious with the object so it didn’t hit his or her own head.\n"
   ]
  },
  {
   "cell_type": "code",
   "execution_count": 17,
   "metadata": {},
   "outputs": [
    {
     "name": "stdout",
     "output_type": "stream",
     "text": [
      "Experiment 1\n"
     ]
    },
    {
     "data": {
      "text/html": [
       "&lt;Table length=3&gt;\n",
       "<table id=\"table4685310160\" class=\"table-striped table-bordered table-condensed\">\n",
       "<thead><tr><th>Force (Number of washers)</th><th>Mass (Number of Stoppers)</th><th>Radius length (cm)</th><th>Time trial 1(s)</th><th>Time Trial 2 (s)</th><th>Time Trial 3 (s)</th><th>Average Time (s)</th><th>Speed (cm/s)</th></tr></thead>\n",
       "<thead><tr><th>int64</th><th>int64</th><th>int64</th><th>float64</th><th>float64</th><th>float64</th><th>float64</th><th>float64</th></tr></thead>\n",
       "<tr><td>30</td><td>1</td><td>30</td><td>1.23</td><td>1.18</td><td>1.23</td><td>1.21</td><td>467.34</td></tr>\n",
       "<tr><td>30</td><td>2</td><td>30</td><td>1.25</td><td>1.38</td><td>1.31</td><td>1.31</td><td>431.67</td></tr>\n",
       "<tr><td>30</td><td>3</td><td>30</td><td>1.6</td><td>1.88</td><td>1.76</td><td>1.75</td><td>323.14</td></tr>\n",
       "</table>"
      ],
      "text/plain": [
       "<Table length=3>\n",
       "Force (Number of washers) Mass (Number of Stoppers) ... Speed (cm/s)\n",
       "          int64                     int64           ...   float64   \n",
       "------------------------- ------------------------- ... ------------\n",
       "                       30                         1 ...       467.34\n",
       "                       30                         2 ...       431.67\n",
       "                       30                         3 ...       323.14"
      ]
     },
     "execution_count": 17,
     "metadata": {},
     "output_type": "execute_result"
    }
   ],
   "source": [
    "from astropy.table import Table, Column\n",
    "print(\"Experiment 1\")\n",
    "a = [30,30,30]\n",
    "b = [1, 2,3]\n",
    "c = [30,30,30]\n",
    "d = [1.23,1.25,1.6]\n",
    "e = [1.18,1.38,1.88]\n",
    "f = [1.23,1.31,1.76]\n",
    "g = [1.21,1.31,1.75]\n",
    "h = [467.34,431.67,323.14]\n",
    "\n",
    "\n",
    "t = Table([a,b,c,d,e,f,g,h], names=('Force (Number of washers)', 'Mass (Number of Stoppers)', 'Radius length (cm)', 'Time trial 1(s)', 'Time Trial 2 (s)', 'Time Trial 3 (s)', 'Average Time (s)', 'Speed (cm/s)'))\n",
    "t\n",
    "\n"
   ]
  },
  {
   "cell_type": "code",
   "execution_count": 18,
   "metadata": {},
   "outputs": [
    {
     "name": "stdout",
     "output_type": "stream",
     "text": [
      "Experiment 2\n"
     ]
    },
    {
     "data": {
      "text/html": [
       "&lt;Table length=5&gt;\n",
       "<table id=\"table4685311056\" class=\"table-striped table-bordered table-condensed\">\n",
       "<thead><tr><th>Force (Number of washers)</th><th>Mass (Number of Stoppers)</th><th>Radius length (cm)</th><th>Time trial 1(s)</th><th>Time Trial 2 (s)</th><th>Time Trial 3 (s)</th><th>Average Time (s)</th><th>Speed (cm/s)</th></tr></thead>\n",
       "<thead><tr><th>int64</th><th>int64</th><th>int64</th><th>float64</th><th>float64</th><th>float64</th><th>float64</th><th>float64</th></tr></thead>\n",
       "<tr><td>10</td><td>1</td><td>30</td><td>1.58</td><td>1.61</td><td>1.53</td><td>1.57</td><td>360.18</td></tr>\n",
       "<tr><td>15</td><td>1</td><td>30</td><td>1.43</td><td>1.36</td><td>1.23</td><td>1.34</td><td>422.0</td></tr>\n",
       "<tr><td>20</td><td>1</td><td>30</td><td>1.38</td><td>1.08</td><td>1.06</td><td>1.17</td><td>483.32</td></tr>\n",
       "<tr><td>25</td><td>1</td><td>30</td><td>1.0</td><td>0.96</td><td>0.95</td><td>0.97</td><td>582.32</td></tr>\n",
       "<tr><td>30</td><td>1</td><td>30</td><td>1.23</td><td>1.18</td><td>1.23</td><td>1.21</td><td>467.34</td></tr>\n",
       "</table>"
      ],
      "text/plain": [
       "<Table length=5>\n",
       "Force (Number of washers) Mass (Number of Stoppers) ... Speed (cm/s)\n",
       "          int64                     int64           ...   float64   \n",
       "------------------------- ------------------------- ... ------------\n",
       "                       10                         1 ...       360.18\n",
       "                       15                         1 ...        422.0\n",
       "                       20                         1 ...       483.32\n",
       "                       25                         1 ...       582.32\n",
       "                       30                         1 ...       467.34"
      ]
     },
     "execution_count": 18,
     "metadata": {},
     "output_type": "execute_result"
    }
   ],
   "source": [
    "print(\"Experiment 2\")\n",
    "a2 = [10,15,20,25,30]\n",
    "b2 = [1,1,1,1,1]\n",
    "c2 = [30,30,30,30,30]\n",
    "d2 = [1.58,1.43,1.38,1,1.23]\n",
    "e2 = [1.61,1.36,1.08,.96,1.18]\n",
    "f2 = [1.53,1.23,1.06,.95,1.23]\n",
    "g2 = [1.57,1.34,1.17,.97,1.21]\n",
    "h2 = [360.18,422,483.32,582.32,467.34]\n",
    "\n",
    "\n",
    "t2 = Table([a2, b2, c2, d2, e2, f2, g2, h2], names=('Force (Number of washers)', 'Mass (Number of Stoppers)', 'Radius length (cm)', 'Time trial 1(s)', 'Time Trial 2 (s)', 'Time Trial 3 (s)', 'Average Time (s)', 'Speed (cm/s)'))\n",
    "t2\n"
   ]
  },
  {
   "cell_type": "code",
   "execution_count": 20,
   "metadata": {},
   "outputs": [
    {
     "name": "stdout",
     "output_type": "stream",
     "text": [
      "Experiment 3\n"
     ]
    },
    {
     "data": {
      "text/html": [
       "&lt;Table length=5&gt;\n",
       "<table id=\"table4685308424\" class=\"table-striped table-bordered table-condensed\">\n",
       "<thead><tr><th>Force (Number of washers)</th><th>Mass (Number of Stoppers)</th><th>Radius length (cm)</th><th>Time trial 1(s)</th><th>Time Trial 2 (s)</th><th>Time Trial 3 (s)</th><th>Average Time (s)</th><th>Speed (cm/s)</th></tr></thead>\n",
       "<thead><tr><th>int64</th><th>int64</th><th>int64</th><th>float64</th><th>float64</th><th>float64</th><th>float64</th><th>float64</th></tr></thead>\n",
       "<tr><td>30</td><td>1</td><td>40</td><td>1.06</td><td>1.16</td><td>1.11</td><td>1.11</td><td>679.26</td></tr>\n",
       "<tr><td>30</td><td>1</td><td>35</td><td>0.96</td><td>1.05</td><td>1.05</td><td>1.02</td><td>646.8</td></tr>\n",
       "<tr><td>30</td><td>1</td><td>30</td><td>1.23</td><td>1.18</td><td>1.23</td><td>1.21</td><td>467.34</td></tr>\n",
       "<tr><td>30</td><td>1</td><td>25</td><td>0.96</td><td>1.1</td><td>1.01</td><td>1.02</td><td>462.0</td></tr>\n",
       "<tr><td>30</td><td>1</td><td>20</td><td>0.96</td><td>0.93</td><td>0.96</td><td>0.95</td><td>396.83</td></tr>\n",
       "</table>"
      ],
      "text/plain": [
       "<Table length=5>\n",
       "Force (Number of washers) Mass (Number of Stoppers) ... Speed (cm/s)\n",
       "          int64                     int64           ...   float64   \n",
       "------------------------- ------------------------- ... ------------\n",
       "                       30                         1 ...       679.26\n",
       "                       30                         1 ...        646.8\n",
       "                       30                         1 ...       467.34\n",
       "                       30                         1 ...        462.0\n",
       "                       30                         1 ...       396.83"
      ]
     },
     "execution_count": 20,
     "metadata": {},
     "output_type": "execute_result"
    }
   ],
   "source": [
    "print(\"Experiment 3\")\n",
    "a2 = [30,30,30,30,30]\n",
    "b2 = [1,1,1,1,1]\n",
    "c2 = [40,35,30,25,20]\n",
    "d2 = [1.06,.96,1.23,.96,.96]\n",
    "e2 = [1.16,1.05,1.18,1.1,.93]\n",
    "f2 = [1.11,1.05,1.23,1.01,.96]\n",
    "g2 = [1.11,1.02,1.21,1.02,.95]\n",
    "h2 = [679.26,646.8,467.34,462,396.83]\n",
    "\n",
    "\n",
    "t2 = Table([a2, b2, c2, d2, e2, f2, g2, h2], names=('Force (Number of washers)', 'Mass (Number of Stoppers)', 'Radius length (cm)', 'Time trial 1(s)', 'Time Trial 2 (s)', 'Time Trial 3 (s)', 'Average Time (s)', 'Speed (cm/s)'))\n",
    "t2\n",
    "\n"
   ]
  },
  {
   "cell_type": "code",
   "execution_count": null,
   "metadata": {
    "collapsed": true
   },
   "outputs": [],
   "source": []
  },
  {
   "cell_type": "code",
   "execution_count": 48,
   "metadata": {},
   "outputs": [
    {
     "name": "stdout",
     "output_type": "stream",
     "text": [
      "[1.0, 0.5, 0.3333333333333333]\n",
      "[218406.6756, 186338.98890000003, 104419.45959999999]\n"
     ]
    },
    {
     "data": {
      "image/png": "[encoded data removed]",
      "text/plain": [
       "<matplotlib.figure.Figure at 0x11bbf14e0>"
      ]
     },
     "metadata": {},
     "output_type": "display_data"
    }
   ],
   "source": [
    "import matplotlib.pyplot as plt\n",
    "#Helpful Link: https://matplotlib.org/users/pyplot_tutorial.html\n",
    "\n",
    "masses= [1,2,3]\n",
    "velocities= [467.34,431.67,323.14]\n",
    "\n",
    "for x in range(0, 3):\n",
    "    masses[x]=(1/(masses[x]))\n",
    "print(masses)\n",
    "\n",
    "for x in range(0, 3):\n",
    "    velocities[x]=((velocities[x])**2)\n",
    "print(velocities)\n",
    "\n",
    "plt.plot(masses, velocities, 'ro')\n",
    "plt.ylabel('Velocity^2')\n",
    "plt.xlabel('1/mass')\n",
    "plt.title('Figure 1')\n",
    "\n",
    "\n",
    "plt.show()"
   ]
  },
  {
   "cell_type": "markdown",
   "metadata": {
    "collapsed": true
   },
   "source": [
    "&nbsp;&nbsp;&nbsp;&nbsp;&nbsp;&nbsp; The speed fractional error was found for the speed for each experiment. It is found by adding the fractional error of distance and time. The fractional error for distance was found by dividing its instrumental error by the measurement. The fractional error for time was found by dividing the time instrumental error by the measurement. For the first experiment the speed fractional error for the first data point in experiment 1 was .1 cm/ 565.6 cm + .01 seconds/ 1.21 = .8%.   0.8% is a very small speed fractional error. If the speed fractional error was calculated for the rest of the experiment, all the values would lie around this low value. Even though this error wasn’t big, there were many other larger ones that weren’t calculated. One error is that the radius changed when the object spun around the center point. Another error is that the timer wasn’t started exactly when the string started to move and stopped exactly when the object completed three revolutions. The angle between the section of the string in the tube and the section of the string attached to the object wasn’t exactly 90 degrees. It was not possible for it to be 90 degrees because gravity caused the object to fall. But, there is no gravity or air resistance in space, which proved to be a major error in this experiment. In other words, there will never be perfect horizontal motional on Earth due to mg. The force that’s on the radius of the string is tension, no matter the angle. The horizontal component of the force is the net f orce. \n",
    "\n",
    "\t\n",
    "&nbsp;&nbsp;&nbsp;&nbsp;&nbsp;&nbsp; This graph shows the relationship between the squared speed of the object on the string and 1/the mass of the object on the string. The x-axis is 1/ mass and the y-axis is speed^2 because this line represents the data better. With this graph, as the exponent the speed is raised to increases, so does the r^2 value. For example, the r^2 value when the x-axis is 1/mass and the y-axis is speed^2 the r^2 value is .74. When the speed is raised to the third power, the r^2 value is .78. This trend would continue as the exponent increases. There is negative correlation between the speed of the object on the end of the string and its mass. However there was no inverse variation. This would be shown if the y-axis was speed and the x-axis was mass. Speed squared will also be used in the centripetal force equations later in discussions.\n",
    "In experiment two, the last data point was thought to be an outlier. Two graphs were made, one with the outlier, and one without. The outlier caused the first graph’s r^2 value to be .52 which is very low. However, when the last data point was removed, the r^2 value was a very high .98 which almost represents a straight line. This outlier could be due to the stopwatch being pressed at the wrong time or the radius suddenly changing. Assuming that the last point was an outlier, the data consistently showed that there is negative correlation between the speed of the object and the force of the bob. Looking at the graph that didn’t include the outlier, the points were pretty evenly spread out and there weren’t any sudden increases in speed at the force (in washers) increased.\n",
    "In experiment 3, the radius of the string (cm) and the speed of the object on the end of the string varied positively. The r^2 value wasn’t too high, which suggested that these points weren’t that close to forming a trend line but they did show correlation between the radius length and the speed of the object. There were no major outliers between these five data points. Every point showed that as the radius increased, so did the speed. There were points where the speed jumped more than usual like from the 30 cm radius to the 35cm radius where the speed went from about 467 to about 647 cm/s. From 25cm to 30cm the speed barely changed. \n",
    "Even though all three plots showed correlation between each variable and the speed of the object, the data points were still affected greatly from errors already stated. None of these graphs show direct variation.\n",
    "The other group’s data was pretty similar to ours for experiment 1. Their data points were in a similar area as ours, but ours didn’t follow a single line as well, hence the lower r^2 value. Besides that, the data for experiment 1 was very similar. Their data for experiment 2 was very similar to ours except for that their last point was in a place that fit the trend of the speed increasing with force in washers. This confirms that the last data point was an outlier. For the last experiment the data was similar but they had a higher r^2 value, just like in experiment 1. In general this other group had similar data, but theirs was a lot cleaner with less minor outliers.\n",
    "Our data can be explained by the equations to centripetal force and centripetal acceleration. The centripetal acceleration vector always points towards the center of the circle and changes direction as the object moves. The equation is Ac= v^2/r. As r increases like in experiment 3 and Ac stays constant like it does in every experiment, v increases as well. This was proved in our experiments, but the numbers didn’t show direct variation, only correlation. If there were no errors, direct variation would’ve been shown for every experiment. The other equation that explained our data was the centripetal force equation, which was Fnet = (m*v^2)/r. The centripetal force makes an object follow a circular path. The amount of washers pulling the string down is the centripetal force. In experiment 1, Fnet and radius were kept constant and m was manipulated. As mass increased, the speed of the object decreased. This equation shows the same correlation but it also shows direct variation. According to this equation, if there are no errors, then the mass and speed will vary directly.  If the force is manipulated like in experiment 2, and the mass and radius stay the same, the speed will increase with the force. This was shown in both the centripetal force equation and the data. In experiment 3, radius is manipulated and mass and force stay constant. According to our data and the equation, as the radius increases, so does the speed of the object. Both equations backed up our data in every experiment. The sun has centripetal force on the Earth as if the Earth is the object on the string.\n",
    "In conclusion, hypothesis 1 was confirmed because, “If the mass of the object on the end of the string increases, then its speed decreases.” The answer to question one was, “Yes, as the mass of the object increases, its speed decreases.” Hypothesis 2 was confirmed because, “If the force on the string (in washers) at the bottom of the string increases, then the objects speed will decrease.” The answer to question two was, “Yes, as the force on the string increases, the objects speed increases.” Hypothesis 3 was proven wrong because, “If the radius of the string increases, then the objects speed will increase.” The answer to question three was, “Yes, as the radius of the string increases, the object’s speed increases.” \n",
    "There were many errors in this experiment including that there was friction between the horizontal string coming out of the tube and the tube, the angle between the string close to the revolving object and the string inside the tube wasn’t exactly 90 degrees, the radius of the string fluctuated uncontrollably when force was applied to the string, and the timer wasn’t started and stopped exactly when the force was applied and when the object finished its third revolution. A solution to the problem with the string’s friction with the tube is that the tube could be a slicker surface with less friction. Part of the timer problem could be solved by using a motion detector to record when the string first moves. The timer would be programmed to start then. However, there is no solution to how the timer would stop right after three revolutions. There were still many errors that couldn’t be fixed due to the gravity on Earth that was always experience. Experiment 3 relates to a lasso because if a lasso is longer, then the end of the lasso would obtain more speed.\n"
   ]
  },
  {
   "cell_type": "markdown",
   "metadata": {},
   "source": []
  }
 ],
 "metadata": {
  "kernelspec": {
   "display_name": "Python 3",
   "language": "python",
   "name": "python3"
  },
  "language_info": {
   "codemirror_mode": {
    "name": "ipython",
    "version": 3
   },
   "file_extension": ".py",
   "mimetype": "text/x-python",
   "name": "python",
   "nbconvert_exporter": "python",
   "pygments_lexer": "ipython3",
   "version": "3.6.8"
  }
 },
 "nbformat": 4,
 "nbformat_minor": 2
}
